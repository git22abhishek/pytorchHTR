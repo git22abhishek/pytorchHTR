{
 "cells": [
  {
   "cell_type": "code",
   "execution_count": null,
   "id": "1ff8628a-08b0-4f3f-8f04-54095e785eb7",
   "metadata": {},
   "outputs": [],
   "source": [
    "from dataset import IAM, Encoder\n",
    "from dataloader import CTCDataLoader\n",
    "from model import CRNNModel\n",
    "\n",
    "%matplotlib inline\n",
    "%config InlineBackend.figure_format = 'retina'\n",
    "plt.rcParams['image.cmap'] = 'gray'"
   ]
  },
  {
   "cell_type": "code",
   "execution_count": 6,
   "id": "2db7e9b5-4982-4e68-b6d3-2defbb1a3004",
   "metadata": {},
   "outputs": [
    {
     "name": "stdout",
     "output_type": "stream",
     "text": [
      "9\n",
      "[2 4 1 9 1 7 5 7 7 1 3 9 7 6 5 2 9 1 9 9 0 3 9 6 7 4 2 3 5 4 8 6 7 3 7 4 7\n",
      " 9 8 4 6 8 9 8 5 6 4 5 8 6 8 5 0 7 8 0 7 5 5 4 4 5 5 5 7 3 6 9 9 7 6 2 8 8\n",
      " 2 9 8 5 5 9 6 6 6 7 9 1 4 9 8 1 4 6 3 7 5 9 3 6 3 6]\n"
     ]
    }
   ],
   "source": [
    "A.augmentations.geometric.Resize(\n",
    "                    height=128, width=1024, p=1.0, always_apply=True)\n",
    "\n",
    "image = cv2.rotate(image, cv2.ROTATE_90_CLOCKWISE)\n",
    "\n",
    "_, image = cv2.threshold(\n",
    "                    image, 0, 255, cv2.THRESH_BINARY+cv2.THRESH_OTSU)"
   ]
  },
  {
   "cell_type": "code",
   "execution_count": 13,
   "id": "c185ac92-6992-4240-b75a-e77689486fc2",
   "metadata": {},
   "outputs": [
    {
     "data": {
      "text/plain": [
       "numpy.int64"
      ]
     },
     "execution_count": 13,
     "metadata": {},
     "output_type": "execute_result"
    }
   ],
   "source": [
    "np.bincount(image[0, :]).argmax()"
   ]
  },
  {
   "cell_type": "code",
   "execution_count": null,
   "id": "1f41cfd1-2bc0-4a52-b472-afb060c94596",
   "metadata": {},
   "outputs": [],
   "source": []
  }
 ],
 "metadata": {
  "kernelspec": {
   "display_name": "Python 3",
   "language": "python",
   "name": "python3"
  },
  "language_info": {
   "codemirror_mode": {
    "name": "ipython",
    "version": 3
   },
   "file_extension": ".py",
   "mimetype": "text/x-python",
   "name": "python",
   "nbconvert_exporter": "python",
   "pygments_lexer": "ipython3",
   "version": "3.8.5"
  }
 },
 "nbformat": 4,
 "nbformat_minor": 5
}
