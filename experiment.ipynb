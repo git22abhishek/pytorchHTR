{
 "cells": [
  {
   "cell_type": "code",
   "execution_count": 1,
   "id": "cd43aa19-d0e2-49f1-a556-59ba96a9b0c5",
   "metadata": {},
   "outputs": [],
   "source": [
    "from dataset import IAM"
   ]
  },
  {
   "cell_type": "code",
   "execution_count": 2,
   "id": "fbbcc722-af86-4645-96be-d74c80d2171f",
   "metadata": {},
   "outputs": [],
   "source": [
    "meow = IAM('/mnt/d/Machine-Learning/Datasets/iamdataset/uncompressed', split='test')"
   ]
  },
  {
   "cell_type": "code",
   "execution_count": 3,
   "id": "f2e5fd3b-89e2-4bc5-8a55-bb4525b2138f",
   "metadata": {},
   "outputs": [
    {
     "data": {
      "text/plain": [
       "1965"
      ]
     },
     "execution_count": 3,
     "metadata": {},
     "output_type": "execute_result"
    }
   ],
   "source": [
    "len(meow)"
   ]
  },
  {
   "cell_type": "code",
   "execution_count": 4,
   "id": "64fb1748-365a-4a80-a1e1-88c45764b936",
   "metadata": {},
   "outputs": [
    {
     "name": "stdout",
     "output_type": "stream",
     "text": [
      "             Image Segmentation                          Transcription\n",
      "0  a01-000u-00.png           ok      A MOVE to stop Mr. Gaitskell from\n",
      "1  a01-000u-01.png           ok  nominating any more Labour life Peers\n",
      "2  a01-000u-02.png           ok   is to be made at a meeting of Labour\n",
      "3  a01-000u-03.png          err    M Ps tomorrow. Mr. Michael Foot has\n",
      "4  a01-000u-04.png           ok   put down a resolution on the subject\n",
      "13353\n"
     ]
    }
   ],
   "source": [
    "data = meow.get_entire_dataset()\n",
    "print(data.head())\n",
    "print(len(data))"
   ]
  },
  {
   "cell_type": "code",
   "execution_count": 11,
   "id": "ceef3216-0e20-4f50-b3be-ca3b1d75882c",
   "metadata": {},
   "outputs": [
    {
     "name": "stdout",
     "output_type": "stream",
     "text": [
      " !\"#&'()*+,-./0123456789:;?ABCDEFGHIJKLMNOPQRSTUVWXYZabcdefghijklmnopqrstuvwxyz\n"
     ]
    },
    {
     "data": {
      "text/plain": [
       "' !\"#&\\'()*+,-./0123456789:;?ABCDEFGHIJKLMNOPQRSTUVWXYZabcdefghijklmnopqrstuvwxyz'"
      ]
     },
     "execution_count": 11,
     "metadata": {},
     "output_type": "execute_result"
    }
   ],
   "source": [
    "chars = []\n",
    "data.Transcription.apply(lambda x: chars.extend(list(x)))\n",
    "chars = ''.join(sorted(set(chars)))\n",
    "print(chars)\n",
    "chars"
   ]
  },
  {
   "cell_type": "code",
   "execution_count": null,
   "id": "735a85cc-4c1b-4cfb-bf8f-e58d4eff1d93",
   "metadata": {},
   "outputs": [],
   "source": []
  }
 ],
 "metadata": {
  "kernelspec": {
   "display_name": "Python 3",
   "language": "python",
   "name": "python3"
  },
  "language_info": {
   "codemirror_mode": {
    "name": "ipython",
    "version": 3
   },
   "file_extension": ".py",
   "mimetype": "text/x-python",
   "name": "python",
   "nbconvert_exporter": "python",
   "pygments_lexer": "ipython3",
   "version": "3.8.5"
  }
 },
 "nbformat": 4,
 "nbformat_minor": 5
}
