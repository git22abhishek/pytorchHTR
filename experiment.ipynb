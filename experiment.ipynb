{
 "cells": [
  {
   "cell_type": "code",
   "execution_count": 1,
   "id": "cd43aa19-d0e2-49f1-a556-59ba96a9b0c5",
   "metadata": {},
   "outputs": [],
   "source": [
    "from dataset import IAM\n",
    "from dataloader import CTCDataLoader\n",
    "from model import CRNNModel\n",
    "\n",
    "from torch.utils.data import DataLoader\n",
    "from sklearn import preprocessing\n",
    "import torch\n",
    "import matplotlib.pyplot as plt\n",
    "import numpy as np\n",
    "from torchvision.transforms import Compose, ToTensor, Resize"
   ]
  },
  {
   "cell_type": "code",
   "execution_count": 2,
   "id": "fbbcc722-af86-4645-96be-d74c80d2171f",
   "metadata": {},
   "outputs": [],
   "source": [
    "dataset = IAM('/mnt/d/Machine-Learning/Datasets/iamdataset/uncompressed', csv_file_path='iam_df.csv')"
   ]
  },
  {
   "cell_type": "code",
   "execution_count": 3,
   "id": "f2e5fd3b-89e2-4bc5-8a55-bb4525b2138f",
   "metadata": {},
   "outputs": [
    {
     "name": "stdout",
     "output_type": "stream",
     "text": [
      "Size of Dataset: 13353\n",
      "Character set:  !\"#&'()*+,-./0123456789:;?ABCDEFGHIJKLMNOPQRSTUVWXYZabcdefghijklmnopqrstuvwxyz\n",
      "Vocab size: 79\n"
     ]
    },
    {
     "data": {
      "text/html": [
       "<div>\n",
       "<style scoped>\n",
       "    .dataframe tbody tr th:only-of-type {\n",
       "        vertical-align: middle;\n",
       "    }\n",
       "\n",
       "    .dataframe tbody tr th {\n",
       "        vertical-align: top;\n",
       "    }\n",
       "\n",
       "    .dataframe thead th {\n",
       "        text-align: right;\n",
       "    }\n",
       "</style>\n",
       "<table border=\"1\" class=\"dataframe\">\n",
       "  <thead>\n",
       "    <tr style=\"text-align: right;\">\n",
       "      <th></th>\n",
       "      <th>Image</th>\n",
       "      <th>Segmentation</th>\n",
       "      <th>Transcription</th>\n",
       "      <th>Threshold</th>\n",
       "    </tr>\n",
       "  </thead>\n",
       "  <tbody>\n",
       "    <tr>\n",
       "      <th>0</th>\n",
       "      <td>a01-000u-00.png</td>\n",
       "      <td>ok</td>\n",
       "      <td>A MOVE to stop Mr. Gaitskell from</td>\n",
       "      <td>154</td>\n",
       "    </tr>\n",
       "    <tr>\n",
       "      <th>1</th>\n",
       "      <td>a01-000u-01.png</td>\n",
       "      <td>ok</td>\n",
       "      <td>nominating any more Labour life Peers</td>\n",
       "      <td>156</td>\n",
       "    </tr>\n",
       "    <tr>\n",
       "      <th>2</th>\n",
       "      <td>a01-000u-02.png</td>\n",
       "      <td>ok</td>\n",
       "      <td>is to be made at a meeting of Labour</td>\n",
       "      <td>157</td>\n",
       "    </tr>\n",
       "    <tr>\n",
       "      <th>3</th>\n",
       "      <td>a01-000u-03.png</td>\n",
       "      <td>err</td>\n",
       "      <td>M Ps tomorrow. Mr. Michael Foot has</td>\n",
       "      <td>156</td>\n",
       "    </tr>\n",
       "    <tr>\n",
       "      <th>4</th>\n",
       "      <td>a01-000u-04.png</td>\n",
       "      <td>ok</td>\n",
       "      <td>put down a resolution on the subject</td>\n",
       "      <td>157</td>\n",
       "    </tr>\n",
       "    <tr>\n",
       "      <th>5</th>\n",
       "      <td>a01-000u-05.png</td>\n",
       "      <td>err</td>\n",
       "      <td>and he is to be backed by Mr. Will</td>\n",
       "      <td>156</td>\n",
       "    </tr>\n",
       "    <tr>\n",
       "      <th>6</th>\n",
       "      <td>a01-000u-06.png</td>\n",
       "      <td>ok</td>\n",
       "      <td>Griffiths, M P for Manchester Exchange.</td>\n",
       "      <td>159</td>\n",
       "    </tr>\n",
       "    <tr>\n",
       "      <th>7</th>\n",
       "      <td>a01-000x-00.png</td>\n",
       "      <td>ok</td>\n",
       "      <td>A MOVE to stop Mr. Gaitskell from nominating</td>\n",
       "      <td>182</td>\n",
       "    </tr>\n",
       "    <tr>\n",
       "      <th>8</th>\n",
       "      <td>a01-000x-01.png</td>\n",
       "      <td>ok</td>\n",
       "      <td>any more Labour life Peers is to be made at a</td>\n",
       "      <td>181</td>\n",
       "    </tr>\n",
       "    <tr>\n",
       "      <th>9</th>\n",
       "      <td>a01-000x-02.png</td>\n",
       "      <td>ok</td>\n",
       "      <td>meeting of Labour 0M Ps tomorrow. Mr. Michael</td>\n",
       "      <td>181</td>\n",
       "    </tr>\n",
       "  </tbody>\n",
       "</table>\n",
       "</div>"
      ],
      "text/plain": [
       "             Image Segmentation  \\\n",
       "0  a01-000u-00.png           ok   \n",
       "1  a01-000u-01.png           ok   \n",
       "2  a01-000u-02.png           ok   \n",
       "3  a01-000u-03.png          err   \n",
       "4  a01-000u-04.png           ok   \n",
       "5  a01-000u-05.png          err   \n",
       "6  a01-000u-06.png           ok   \n",
       "7  a01-000x-00.png           ok   \n",
       "8  a01-000x-01.png           ok   \n",
       "9  a01-000x-02.png           ok   \n",
       "\n",
       "                                   Transcription  Threshold  \n",
       "0              A MOVE to stop Mr. Gaitskell from        154  \n",
       "1          nominating any more Labour life Peers        156  \n",
       "2           is to be made at a meeting of Labour        157  \n",
       "3            M Ps tomorrow. Mr. Michael Foot has        156  \n",
       "4           put down a resolution on the subject        157  \n",
       "5             and he is to be backed by Mr. Will        156  \n",
       "6        Griffiths, M P for Manchester Exchange.        159  \n",
       "7   A MOVE to stop Mr. Gaitskell from nominating        182  \n",
       "8  any more Labour life Peers is to be made at a        181  \n",
       "9  meeting of Labour 0M Ps tomorrow. Mr. Michael        181  "
      ]
     },
     "execution_count": 3,
     "metadata": {},
     "output_type": "execute_result"
    }
   ],
   "source": [
    "print(\"Size of Dataset:\", len(dataset))\n",
    "print(\"Character set:\", dataset.charset)\n",
    "print(\"Vocab size:\", len(dataset.charset))\n",
    "dataset.data.head(10)"
   ]
  },
  {
   "cell_type": "code",
   "execution_count": 10,
   "id": "40f172ab-e5ad-431a-9dfb-5480536076d2",
   "metadata": {},
   "outputs": [],
   "source": [
    "data_loader = CTCDataLoader(dataset)\n",
    "train_loader, val_loader, test_loader = data_loader(split=(0.6, 0.2, 0.2), batch_size=(8, 16, 16))"
   ]
  },
  {
   "cell_type": "code",
   "execution_count": 11,
   "id": "67d7a089-84e9-49f5-a50e-18f81cfe4ddd",
   "metadata": {},
   "outputs": [
    {
     "data": {
      "text/plain": [
       "13360"
      ]
     },
     "execution_count": 11,
     "metadata": {},
     "output_type": "execute_result"
    }
   ],
   "source": [
    "len(train_loader)*8 + len(test_loader)*16 + len(val_loader)*16"
   ]
  },
  {
   "cell_type": "code",
   "execution_count": 12,
   "id": "2f866aa3-398e-4586-bcb4-5c41468523b3",
   "metadata": {},
   "outputs": [],
   "source": [
    "model = CRNNModel(vocab_size=len(dataset.charset), time_steps=100)"
   ]
  },
  {
   "cell_type": "code",
   "execution_count": 11,
   "id": "8c2140ae-245d-45ee-8c62-0751be07aaab",
   "metadata": {},
   "outputs": [
    {
     "name": "stdout",
     "output_type": "stream",
     "text": [
      "Input: torch.Size([100, 8, 80])\n",
      "Input lengths: tensor([100, 100, 100, 100, 100, 100, 100, 100])\n",
      "Output: torch.Size([344])\n",
      "Output lengths: tensor([32, 40, 43, 60, 51, 10, 43, 65]) Sum of output lengths: tensor(344)\n",
      "Loss:  tensor(2826.8650, grad_fn=<SumBackward0>)\n"
     ]
    }
   ],
   "source": [
    "for batch in train_loader:\n",
    "    images, targets, target_lengths = batch\n",
    "    preds = model(images)\n",
    "    \n",
    "    # N = batch_size, T = input_length (lenght of squences, ie, time_stamps), C = num_classes\n",
    "    N, T, C = preds.shape\n",
    "    \n",
    "    # Apply log softmax to classes\n",
    "    log_probs = torch.nn.functional.log_softmax(preds, dim=2)\n",
    "    \n",
    "    # Permute to bring sequences at first the axis (T x N x C)\n",
    "    log_probs = log_probs.permute(1, 0, 2).detach().requires_grad_()\n",
    "    \n",
    "    # All input sequences in the batch are of same length\n",
    "    input_lengths = torch.full(size=(N, ), fill_value=T, dtype=torch.long)\n",
    "    \n",
    "    print(\"Input:\", log_probs.shape)\n",
    "    print(\"Input lengths:\", input_lengths)\n",
    "    print(\"Output:\", targets.shape)\n",
    "    print(\"Output lengths:\", target_lengths, \"Sum of output lengths:\", torch.sum(target_lengths))\n",
    "    \n",
    "    \n",
    "    ctc_loss = torch.nn.CTCLoss(reduction='sum', zero_infinity=True)\n",
    "    loss = ctc_loss(log_probs, targets, input_lengths, target_lengths)\n",
    "    print('Loss: ', loss)\n",
    "    break"
   ]
  },
  {
   "cell_type": "markdown",
   "id": "e2b07095-4cfd-4c1f-970f-93024dbee26b",
   "metadata": {},
   "source": [
    "Calculate Loss: <br>\n",
    "    1. Permute the tensor to bring the time_steps at first axis, i.e, from batch_size X time_steps X features to time_steps X batch X features <br>\n",
    "        1.i.`out = out.permute(1, 0, 2)`<br>\n",
    "    2. Perform log_softmax on feature axis on of the output tensor (ex: -1)<br>\n",
    "        2.i. `out = F.log_softmax(out, dim=2) `<br>\n",
    "    3. Specify length of inputs<br>\n",
    "        3.i. `input_lengths = torch.full(size=(out.shape[1]), fill_value=out.shape[0], dtype=torch.int32)`<br>\n",
    "    4. Specify the length of outputs (target) <br>\n",
    "    5. Calculate loss\n",
    "        5.i. `loss = nn.CTCLoss(blank=0, out, input_lengths, target_lengts)`\n"
   ]
  },
  {
   "cell_type": "code",
   "execution_count": 9,
   "id": "90b18e0a-b780-415e-b350-3a40018cc868",
   "metadata": {},
   "outputs": [],
   "source": [
    "loss_fn = torch.nn.CTCLoss(reduction='sum', zero_infinity=True)\n",
    "\n"
   ]
  },
  {
   "cell_type": "code",
   "execution_count": 13,
   "id": "a9e6b2e1-5525-4f79-a6f8-b3882aa278ff",
   "metadata": {},
   "outputs": [
    {
     "data": {
      "text/plain": [
       "tensor([12., 12.], requires_grad=True)"
      ]
     },
     "execution_count": 13,
     "metadata": {},
     "output_type": "execute_result"
    }
   ],
   "source": [
    "torch.tensor([12, 12], dtype=torch.float32).requires_grad_()"
   ]
  },
  {
   "cell_type": "code",
   "execution_count": 12,
   "id": "af6beb52-81be-48eb-8af8-48c9a88e8ebf",
   "metadata": {},
   "outputs": [],
   "source": [
    "from tqdm import trange"
   ]
  },
  {
   "cell_type": "code",
   "execution_count": null,
   "id": "23a1015d-d61f-4d22-b33f-3470860927a7",
   "metadata": {},
   "outputs": [],
   "source": [
    "trange()"
   ]
  },
  {
   "cell_type": "code",
   "execution_count": 14,
   "id": "4698624c-c052-4bb8-8198-d705a83cfc54",
   "metadata": {},
   "outputs": [],
   "source": [
    "with torch.no_grad():\n",
    "    images, targets, target_lengths = batch\n",
    "    batch_preds = model(images)"
   ]
  },
  {
   "cell_type": "code",
   "execution_count": 6,
   "id": "d4134a37-5bc2-4c49-be56-7240e1e74853",
   "metadata": {},
   "outputs": [
    {
     "ename": "AttributeError",
     "evalue": "module 'cv2.cv2' has no attribute 'GRAYSCALE'",
     "output_type": "error",
     "traceback": [
      "\u001b[0;31m---------------------------------------------------------------------------\u001b[0m",
      "\u001b[0;31mAttributeError\u001b[0m                            Traceback (most recent call last)",
      "\u001b[0;32m<ipython-input-6-3e1e23448553>\u001b[0m in \u001b[0;36m<module>\u001b[0;34m\u001b[0m\n\u001b[1;32m      1\u001b[0m \u001b[0;32mimport\u001b[0m \u001b[0mcv2\u001b[0m\u001b[0;34m\u001b[0m\u001b[0;34m\u001b[0m\u001b[0m\n\u001b[0;32m----> 2\u001b[0;31m \u001b[0mcv2\u001b[0m\u001b[0;34m.\u001b[0m\u001b[0mGRAYSCALE\u001b[0m\u001b[0;34m\u001b[0m\u001b[0;34m\u001b[0m\u001b[0m\n\u001b[0m",
      "\u001b[0;31mAttributeError\u001b[0m: module 'cv2.cv2' has no attribute 'GRAYSCALE'"
     ]
    }
   ],
   "source": []
  },
  {
   "cell_type": "code",
   "execution_count": 4,
   "id": "a31334bf-96e5-4664-bab3-48d84cd894f7",
   "metadata": {},
   "outputs": [],
   "source": [
    "img, target = dataset[0]"
   ]
  },
  {
   "cell_type": "code",
   "execution_count": 5,
   "id": "5a4f727a-fc8b-4608-a187-ad02083c6ab3",
   "metadata": {},
   "outputs": [
    {
     "data": {
      "text/plain": [
       "tensor([[1., 1., 1.,  ..., 1., 1., 1.],\n",
       "        [1., 1., 1.,  ..., 1., 1., 1.],\n",
       "        [1., 1., 1.,  ..., 1., 1., 1.],\n",
       "        ...,\n",
       "        [1., 1., 1.,  ..., 1., 1., 1.],\n",
       "        [1., 1., 1.,  ..., 1., 1., 1.],\n",
       "        [1., 1., 1.,  ..., 1., 1., 1.]])"
      ]
     },
     "execution_count": 5,
     "metadata": {},
     "output_type": "execute_result"
    },
    {
     "data": {
      "image/png": "[encoded data removed]",
      "text/plain": [
       "<Figure size 720x1440 with 1 Axes>"
      ]
     },
     "metadata": {
      "needs_background": "light"
     },
     "output_type": "display_data"
    }
   ],
   "source": [
    "plt.figure(figsize=(10, 20))\n",
    "plt.imshow(img[0], cmap='gray')\n",
    "img[0]"
   ]
  },
  {
   "cell_type": "code",
   "execution_count": null,
   "id": "283b9e1a-d6d3-43ee-8d4e-73c4d9e23072",
   "metadata": {},
   "outputs": [],
   "source": [
    "torch.utils.data.DataLoader()"
   ]
  },
  {
   "cell_type": "code",
   "execution_count": null,
   "id": "20a70121-1d64-4af7-899f-00f73d3b3988",
   "metadata": {},
   "outputs": [],
   "source": []
  },
  {
   "cell_type": "code",
   "execution_count": null,
   "id": "6c76c7fd-6372-4656-aac6-f600707891b5",
   "metadata": {},
   "outputs": [],
   "source": []
  },
  {
   "cell_type": "code",
   "execution_count": null,
   "id": "1775e637-aea6-4371-8ad1-69bcf6892a93",
   "metadata": {},
   "outputs": [],
   "source": []
  },
  {
   "cell_type": "code",
   "execution_count": null,
   "id": "c546e249-dad4-40dd-8dee-2d064471154a",
   "metadata": {},
   "outputs": [],
   "source": []
  },
  {
   "cell_type": "code",
   "execution_count": null,
   "id": "b2c3cea9-3cbc-4703-a38e-d4d6e0270d39",
   "metadata": {},
   "outputs": [],
   "source": []
  },
  {
   "cell_type": "code",
   "execution_count": 4,
   "id": "c48502c4-5035-464f-8720-23b5db9ac5cd",
   "metadata": {
    "tags": []
   },
   "outputs": [
    {
     "data": {
      "text/plain": [
       "torch.Size([4, 32, 80])"
      ]
     },
     "execution_count": 4,
     "metadata": {},
     "output_type": "execute_result"
    }
   ],
   "source": [
    "lstm = torch.nn.LSTM(input_size=1024, hidden_size=512, num_layers=2, \n",
    "                            bidirectional=True, batch_first=True)\n",
    "linear1 = torch.nn.Linear(1024, 256)\n",
    "linear2 = torch.nn.Linear(256, 80)\n",
    "\n",
    "out, _ = lstm(torch.rand(4, 32, 1024))\n",
    "out = linear1(out)\n",
    "out = linear2(out)\n",
    "out.shape"
   ]
  }
 ],
 "metadata": {
  "kernelspec": {
   "display_name": "Python 3",
   "language": "python",
   "name": "python3"
  },
  "language_info": {
   "codemirror_mode": {
    "name": "ipython",
    "version": 3
   },
   "file_extension": ".py",
   "mimetype": "text/x-python",
   "name": "python",
   "nbconvert_exporter": "python",
   "pygments_lexer": "ipython3",
   "version": "3.8.5"
  }
 },
 "nbformat": 4,
 "nbformat_minor": 5
}
