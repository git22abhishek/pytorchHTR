{
 "cells": [
  {
   "cell_type": "code",
   "execution_count": 1,
   "id": "cd43aa19-d0e2-49f1-a556-59ba96a9b0c5",
   "metadata": {},
   "outputs": [],
   "source": [
    "from dataset import IAM\n",
    "from dataloader import CTCDataLoader\n",
    "from model import CRNNModel\n",
    "\n",
    "from torch.utils.data import DataLoader\n",
    "from sklearn import preprocessing\n",
    "import torch\n",
    "import matplotlib.pyplot as plt\n",
    "import numpy as np\n",
    "from torchvision.transforms import Compose, ToTensor, Resize"
   ]
  },
  {
   "cell_type": "code",
   "execution_count": 2,
   "id": "fbbcc722-af86-4645-96be-d74c80d2171f",
   "metadata": {},
   "outputs": [],
   "source": [
    "dataset = IAM('/mnt/d/Machine-Learning/Datasets/iamdataset/uncompressed')"
   ]
  },
  {
   "cell_type": "code",
   "execution_count": 3,
   "id": "f2e5fd3b-89e2-4bc5-8a55-bb4525b2138f",
   "metadata": {},
   "outputs": [
    {
     "name": "stdout",
     "output_type": "stream",
     "text": [
      "Size of Dataset: 13353\n",
      "Character set:  !\"#&'()*+,-./0123456789:;?ABCDEFGHIJKLMNOPQRSTUVWXYZabcdefghijklmnopqrstuvwxyz\n",
      "Vocab size (with extra blank character for CTC): 80\n"
     ]
    },
    {
     "data": {
      "text/html": [
       "<div>\n",
       "<style scoped>\n",
       "    .dataframe tbody tr th:only-of-type {\n",
       "        vertical-align: middle;\n",
       "    }\n",
       "\n",
       "    .dataframe tbody tr th {\n",
       "        vertical-align: top;\n",
       "    }\n",
       "\n",
       "    .dataframe thead th {\n",
       "        text-align: right;\n",
       "    }\n",
       "</style>\n",
       "<table border=\"1\" class=\"dataframe\">\n",
       "  <thead>\n",
       "    <tr style=\"text-align: right;\">\n",
       "      <th></th>\n",
       "      <th>Image</th>\n",
       "      <th>Segmentation</th>\n",
       "      <th>Transcription</th>\n",
       "      <th>Threshold</th>\n",
       "    </tr>\n",
       "  </thead>\n",
       "  <tbody>\n",
       "    <tr>\n",
       "      <th>0</th>\n",
       "      <td>a01-000u-00.png</td>\n",
       "      <td>ok</td>\n",
       "      <td>A MOVE to stop Mr. Gaitskell from</td>\n",
       "      <td>154</td>\n",
       "    </tr>\n",
       "    <tr>\n",
       "      <th>1</th>\n",
       "      <td>a01-000u-01.png</td>\n",
       "      <td>ok</td>\n",
       "      <td>nominating any more Labour life Peers</td>\n",
       "      <td>156</td>\n",
       "    </tr>\n",
       "    <tr>\n",
       "      <th>2</th>\n",
       "      <td>a01-000u-02.png</td>\n",
       "      <td>ok</td>\n",
       "      <td>is to be made at a meeting of Labour</td>\n",
       "      <td>157</td>\n",
       "    </tr>\n",
       "    <tr>\n",
       "      <th>3</th>\n",
       "      <td>a01-000u-03.png</td>\n",
       "      <td>err</td>\n",
       "      <td>M Ps tomorrow. Mr. Michael Foot has</td>\n",
       "      <td>156</td>\n",
       "    </tr>\n",
       "    <tr>\n",
       "      <th>4</th>\n",
       "      <td>a01-000u-04.png</td>\n",
       "      <td>ok</td>\n",
       "      <td>put down a resolution on the subject</td>\n",
       "      <td>157</td>\n",
       "    </tr>\n",
       "    <tr>\n",
       "      <th>5</th>\n",
       "      <td>a01-000u-05.png</td>\n",
       "      <td>err</td>\n",
       "      <td>and he is to be backed by Mr. Will</td>\n",
       "      <td>156</td>\n",
       "    </tr>\n",
       "    <tr>\n",
       "      <th>6</th>\n",
       "      <td>a01-000u-06.png</td>\n",
       "      <td>ok</td>\n",
       "      <td>Griffiths, M P for Manchester Exchange.</td>\n",
       "      <td>159</td>\n",
       "    </tr>\n",
       "    <tr>\n",
       "      <th>7</th>\n",
       "      <td>a01-000x-00.png</td>\n",
       "      <td>ok</td>\n",
       "      <td>A MOVE to stop Mr. Gaitskell from nominating</td>\n",
       "      <td>182</td>\n",
       "    </tr>\n",
       "    <tr>\n",
       "      <th>8</th>\n",
       "      <td>a01-000x-01.png</td>\n",
       "      <td>ok</td>\n",
       "      <td>any more Labour life Peers is to be made at a</td>\n",
       "      <td>181</td>\n",
       "    </tr>\n",
       "    <tr>\n",
       "      <th>9</th>\n",
       "      <td>a01-000x-02.png</td>\n",
       "      <td>ok</td>\n",
       "      <td>meeting of Labour 0M Ps tomorrow. Mr. Michael</td>\n",
       "      <td>181</td>\n",
       "    </tr>\n",
       "  </tbody>\n",
       "</table>\n",
       "</div>"
      ],
      "text/plain": [
       "             Image Segmentation  \\\n",
       "0  a01-000u-00.png           ok   \n",
       "1  a01-000u-01.png           ok   \n",
       "2  a01-000u-02.png           ok   \n",
       "3  a01-000u-03.png          err   \n",
       "4  a01-000u-04.png           ok   \n",
       "5  a01-000u-05.png          err   \n",
       "6  a01-000u-06.png           ok   \n",
       "7  a01-000x-00.png           ok   \n",
       "8  a01-000x-01.png           ok   \n",
       "9  a01-000x-02.png           ok   \n",
       "\n",
       "                                   Transcription Threshold  \n",
       "0              A MOVE to stop Mr. Gaitskell from       154  \n",
       "1          nominating any more Labour life Peers       156  \n",
       "2           is to be made at a meeting of Labour       157  \n",
       "3            M Ps tomorrow. Mr. Michael Foot has       156  \n",
       "4           put down a resolution on the subject       157  \n",
       "5             and he is to be backed by Mr. Will       156  \n",
       "6        Griffiths, M P for Manchester Exchange.       159  \n",
       "7   A MOVE to stop Mr. Gaitskell from nominating       182  \n",
       "8  any more Labour life Peers is to be made at a       181  \n",
       "9  meeting of Labour 0M Ps tomorrow. Mr. Michael       181  "
      ]
     },
     "execution_count": 3,
     "metadata": {},
     "output_type": "execute_result"
    }
   ],
   "source": [
    "print(\"Size of Dataset:\", len(dataset))\n",
    "print(\"Character set:\", dataset.charset)\n",
    "print(\"Vocab size (with extra blank character for CTC):\", len(dataset.charset) + 1)\n",
    "dataset.data.head(10)"
   ]
  },
  {
   "cell_type": "code",
   "execution_count": 4,
   "id": "40f172ab-e5ad-431a-9dfb-5480536076d2",
   "metadata": {},
   "outputs": [],
   "source": [
    "data_loader = CTCDataLoader(dataset)\n",
    "train_loader, test_loader = data_loader(split=(0.4, 0.1), batch_size=(1, 1, 1))"
   ]
  },
  {
   "cell_type": "code",
   "execution_count": 5,
   "id": "67d7a089-84e9-49f5-a50e-18f81cfe4ddd",
   "metadata": {},
   "outputs": [
    {
     "data": {
      "text/plain": [
       "6676"
      ]
     },
     "execution_count": 5,
     "metadata": {},
     "output_type": "execute_result"
    }
   ],
   "source": [
    "len(train_loader) + len(test_loader)"
   ]
  },
  {
   "cell_type": "code",
   "execution_count": 8,
   "id": "7e3f4984-cd8a-4e67-9620-bdb5593dd5fd",
   "metadata": {},
   "outputs": [
    {
     "data": {
      "text/plain": [
       "13360"
      ]
     },
     "execution_count": 8,
     "metadata": {},
     "output_type": "execute_result"
    }
   ],
   "source": [
    "835 * 16"
   ]
  },
  {
   "cell_type": "code",
   "execution_count": 6,
   "id": "2f866aa3-398e-4586-bcb4-5c41468523b3",
   "metadata": {},
   "outputs": [],
   "source": [
    "model = CRNNModel(20, 100)"
   ]
  },
  {
   "cell_type": "code",
   "execution_count": null,
   "id": "8c2140ae-245d-45ee-8c62-0751be07aaab",
   "metadata": {},
   "outputs": [],
   "source": []
  },
  {
   "cell_type": "code",
   "execution_count": null,
   "id": "5d9db898-6a26-4698-b942-964362eb465a",
   "metadata": {},
   "outputs": [],
   "source": []
  },
  {
   "cell_type": "code",
   "execution_count": null,
   "id": "90b18e0a-b780-415e-b350-3a40018cc868",
   "metadata": {},
   "outputs": [],
   "source": []
  },
  {
   "cell_type": "code",
   "execution_count": null,
   "id": "a9e6b2e1-5525-4f79-a6f8-b3882aa278ff",
   "metadata": {},
   "outputs": [],
   "source": []
  },
  {
   "cell_type": "code",
   "execution_count": null,
   "id": "af6beb52-81be-48eb-8af8-48c9a88e8ebf",
   "metadata": {},
   "outputs": [],
   "source": []
  },
  {
   "cell_type": "code",
   "execution_count": 4,
   "id": "c48502c4-5035-464f-8720-23b5db9ac5cd",
   "metadata": {},
   "outputs": [
    {
     "data": {
      "text/plain": [
       "torch.Size([4, 32, 80])"
      ]
     },
     "execution_count": 4,
     "metadata": {},
     "output_type": "execute_result"
    }
   ],
   "source": [
    "lstm = torch.nn.LSTM(input_size=1024, hidden_size=512, num_layers=2, \n",
    "                            bidirectional=True, batch_first=True)\n",
    "linear1 = torch.nn.Linear(1024, 256)\n",
    "linear2 = torch.nn.Linear(256, 80)\n",
    "\n",
    "out, _ = lstm(torch.rand(4, 32, 1024))\n",
    "out = linear1(out)\n",
    "out = linear2(out)\n",
    "out.shape"
   ]
  }
 ],
 "metadata": {
  "kernelspec": {
   "display_name": "Python 3",
   "language": "python",
   "name": "python3"
  },
  "language_info": {
   "codemirror_mode": {
    "name": "ipython",
    "version": 3
   },
   "file_extension": ".py",
   "mimetype": "text/x-python",
   "name": "python",
   "nbconvert_exporter": "python",
   "pygments_lexer": "ipython3",
   "version": "3.8.5"
  }
 },
 "nbformat": 4,
 "nbformat_minor": 5
}
